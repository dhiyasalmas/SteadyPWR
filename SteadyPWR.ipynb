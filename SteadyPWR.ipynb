{
  "nbformat": 4,
  "nbformat_minor": 0,
  "metadata": {
    "colab": {
      "provenance": [],
      "authorship_tag": "ABX9TyOmydrSg5wFO1mPH05k2rIV",
      "include_colab_link": true
    },
    "kernelspec": {
      "name": "python3",
      "display_name": "Python 3"
    },
    "language_info": {
      "name": "python"
    }
  },
  "cells": [
    {
      "cell_type": "markdown",
      "metadata": {
        "id": "view-in-github",
        "colab_type": "text"
      },
      "source": [
        "<a href=\"https://colab.research.google.com/github/dhiyasalmas/SteadyPWR/blob/main/SteadyPWR.ipynb\" target=\"_parent\"><img src=\"https://colab.research.google.com/assets/colab-badge.svg\" alt=\"Open In Colab\"/></a>"
      ]
    },
    {
      "cell_type": "markdown",
      "source": [
        "#**Simulasi Thermal Hidroulik PWR**"
      ],
      "metadata": {
        "id": "BVeoJ_yrHuyI"
      }
    },
    {
      "cell_type": "markdown",
      "source": [
        "# **Import module**"
      ],
      "metadata": {
        "id": "wrLH4_VrgJr8"
      }
    },
    {
      "cell_type": "code",
      "source": [
        "import numpy as np"
      ],
      "metadata": {
        "id": "wW8B5ykMIls8"
      },
      "execution_count": null,
      "outputs": []
    },
    {
      "cell_type": "markdown",
      "source": [
        "# **Import Constants**"
      ],
      "metadata": {
        "id": "OnFo8_PJgLtL"
      }
    },
    {
      "cell_type": "code",
      "execution_count": null,
      "metadata": {
        "id": "YYgxeYv9HuS_"
      },
      "outputs": [],
      "source": [
        "# Variable\n",
        "def g1 ():\n",
        "  global rpelet,rclin,rclout,rcool,qfuel,coflow,msr,msz\n",
        "\n",
        "def g2 ():\n",
        "  global wzrfmt,wpufmt,porfp,baeffu\n",
        "\n",
        "def g3 ():\n",
        "  global tavpel,tavcld,tavgap,tavcol\n",
        "\n",
        "def sth2 ():\n",
        "  global tpinp, tpout\n",
        "\n",
        "def sth3():\n",
        "  global maxb,gtot,psist,hcheam,graf\n",
        "\n",
        "def sth4():\n",
        "  global maxc,maxm,maxp"
      ]
    },
    {
      "cell_type": "markdown",
      "source": [
        "# **Tetapan Untuk PWR**"
      ],
      "metadata": {
        "id": "koGPJRFxZGCj"
      }
    },
    {
      "cell_type": "code",
      "source": [
        "def conw(hw, pw):\n",
        "  xx = hw/5.815e+5\n",
        "  conw=0.57374+0.25361*xx-0.14547*xx**2+0.013875*xx**3\n",
        "  return\n",
        "\n",
        "#Menghitung densitas air dengan masukan entalpi dan tekanan\n",
        "def denw(hw, pw):\n",
        "  if hw == 6.513e5:\n",
        "    denw=(999.65+4.9737e-7*pw)+(-2.5847e-10+6.1767e-19*pw)*hw**2+(1.2696e-22-4.9223e-31*pw)*hw**4\n",
        "  else:\n",
        "    denw=(1488.64+1.3389e-6*pw)+(1.4695e9+8.85736*pw)/(hw-3.20372e6-1.20483e-2*pw)\n",
        "  return\n",
        "\n",
        "#Menghitung entalpi air dengan masukan tekanan pada kondisi saturasi\n",
        "def entw(pw):\n",
        "  entw=5.7474e+5+2.09206e-1*pw-2.8051e-8*pw**2+2.38098e-15*pw**3-1.0042e-22*pw**4+1.6587e-30*pw**5\n",
        "  return\n",
        "\n",
        "#menghitung entalpi air sub cooled dengan masukan tekanan  dan temperatur\n",
        "def entsbw(pw, twl):\n",
        "  tw=tw1+273.15\n",
        "  temst=temsw(pw)\n",
        "  entst=entw(pw)\n",
        "  cpst=cpw(entst,pw)\n",
        "  ent1=entst+(tw-temst)*cpst\n",
        "  tvtst=temw(ent1,pw)\n",
        "  if abs((tvtst-tw)/tw) == 0.001:\n",
        "    entsbw = entl\n",
        "    #disini ada write\n",
        "    for i in range (1, 25):\n",
        "      ent1=ent1+(tw-temst)/(tvtst-temst)*(tw-tvtst)*cpst\n",
        "      tvtst=temw(ent1,pw)\n",
        "      if abs((tvtst-tw)/tw) == 0.001:\n",
        "        entsbw = entl\n",
        "  else:\n",
        "    print(\"entsbw do not convergent!\")\n",
        "  return\n",
        "\n",
        "#Mengitung temperatur air sub cooled dengan masukan tekanan  dan entalpi\n",
        "def temw(hw, pw):\n",
        "  temw=(2.7291e2-1.5954e-7*pw)+(2.3949e-4-5.1963e-13*pw)*hw+(5.9660e-12+1.2064e-18*pw)*hw**2-(1.3147e-17+5.6026e-25*pw)*hw**3\n",
        "  return\n",
        "\n",
        "#menghitung cp  air sub cooled dengan masukan tekanan  dan entalpi\n",
        "def cpw(hw, pw):\n",
        "  a0p=2.3949e-4-5.1963e-13*pw\n",
        "  a1p=1.1932e-11+2.4127e-18*pw\n",
        "  a2p=-3.9441e-17-1.6808e-24*pw\n",
        "  cpw=1.0/(a0p+a1p*hw+a2p*hw**2)\n",
        "  return\n",
        "\n",
        "#menghitung temperatur saturasi  air dengan masukan tekanan\n",
        "def temsw(pw):\n",
        "  entw1=entw(pw)\n",
        "  temsw=temw(entw1,pw)\n",
        "  return\n",
        "\n",
        "#menghitung viskositas air sub cooled dengan masukan tekanan  dan entalpi\n",
        "def visw(hw, pw):\n",
        "  if hw == 2.76e5:\n",
        "    xx=8.5813e-6*(hw-4.2659e4)\n",
        "    ee=6.4845e-6*(hw-5.5359e4)\n",
        "    visw=1.2995e-3-9.2640e-4*xx+3.8105e-4*xx**2-8.2194e-5*xx**3+7.0224e-6*xx**4-(-6.5959e-12+6.763e-12*ee-2.8883e-12*ee**2+4.4525e-13*ee**3)*(pw-6.8946e5)\n",
        "  elif hw == 3.94e5:\n",
        "    e0h=1.4526e-3-6.9881e-9*hw+1.521e-14*hw**2-1.2303e-20*hw**3\n",
        "    e1h=-3.8064e-11+3.9285e-16*hw-1.2586e-21*hw**2+1.2860e-27*hw**3\n",
        "    visw=e0h+e1h*(pw-6.8946e5)\n",
        "  else:\n",
        "    zz=3.8921e-6*(hw-4.0147e5)\n",
        "    visw=3.026e-4-1.8366e-4*zz+7.5671e-5*zz**2-1.6479e-5*zz**3+1.4165e-6*zz**4\n",
        "  return"
      ],
      "metadata": {
        "id": "9zcUGwqJZHpm"
      },
      "execution_count": null,
      "outputs": []
    },
    {
      "cell_type": "markdown",
      "source": [
        "# **Import Data**"
      ],
      "metadata": {
        "id": "0xzsTyDjfTgz"
      }
    },
    {
      "cell_type": "code",
      "source": [
        "class inpl:\n",
        "  global rpelet,rclin,rclout,rcool,qfuel,coflow,msr,msz,maxc,maxm,maxp\n",
        "  from google.colab import drive\n",
        "  drive.mount('/content/drive/My Drive/initherm.inp')\n",
        "  #Faktor friksi laminer\n",
        "  def fricpl(re):\n",
        "    fricpl=16.0/re\n",
        "    return\n",
        "  #faktor friksi turbulen\n",
        "  def fricpt(re):\n",
        "    fricpt=0.0791*re**(-0.25)\n",
        "    return"
      ],
      "metadata": {
        "id": "w5_xjVcifVsx"
      },
      "execution_count": null,
      "outputs": []
    },
    {
      "cell_type": "markdown",
      "source": [
        "## **Subroutine Thermcool**"
      ],
      "metadata": {
        "id": "PTUZi40VMCjp"
      }
    },
    {
      "cell_type": "code",
      "source": [
        "# Function to calculate thermcoo1\n",
        "class thermcoo1():\n",
        "    #global tavpel, tavcld, tavgap, tavcol\n",
        "    global xmass, tempr, press, hgt, presdp, drhead\n",
        "    global tpinp, tpout, xdens, xvel, xxx, zzz, dlp, pwrb, dxx, dzz\n",
        "    global tpc, denct, visct, conct, cpct, tpm, denmt, conmt, cpmt\n",
        "    global rpelet, rclin, rclout, rcool, qfuel, coflow, msr, msz\n",
        "    #global wzrfmt, wpufmt, porfp, baeffu, tavpel, tavcld, tavgap, tavcol\n",
        "    global maxb, gtot, psist, hcheam, graf, maxc, maxm, maxp, tpc, denct, visct, conct, cpct, tpm, denmt, conmt, cpmt\n",
        "    #global xdens, xvel, xxx, zzz, dlp, pwrb, dxx, dzz\n",
        "\n",
        "    #Menghitung temperatur di seluruh jalur pendingin\n",
        "    tempr[0] = tpinp\n",
        "    for i in range(1, maxb-1):\n",
        "        tptmp = tempr[i]\n",
        "        htp = entsbw(psist, tptmp)\n",
        "        cpwtp = cpw(htp, tpinp)\n",
        "        tempr[i+1] = tempr[i] + pwrb(i)/gtot/cpwtp\n",
        "        print('i+1:', i+1, tempr[i+1], tptmp, htp, cpwtp)\n",
        "\n",
        "    #Mengitung pressure drop grafitasi\n",
        "    drhead1=0.0\n",
        "    drhead2=0.0\n",
        "    hcheam=10.0\n",
        "    graf=10.0\n",
        "\n",
        "    #Bagian updtream\n",
        "    for i in range(1, 14):\n",
        "        tptmp = tempr(i)\n",
        "        htp = entsbw(psist, tptmp)\n",
        "        dentp = denw(htp, tptmp)\n",
        "        drhead1 += dentp * graf * dzz(i)\n",
        "        if i == 9:\n",
        "            drhead1 += dentp * graf * hcheam(i)\n",
        "\n",
        "    #Bagian downstream\n",
        "    for i in range (15, 27):\n",
        "      tptmp = tempr(i)\n",
        "      htp = entsbw(psist,tptmp)\n",
        "      dentp = denw(htp,tptmp)\n",
        "      drhead2 += dentp * graf * dzz(i)\n",
        "      if i == 23:\n",
        "        drhead2 += dentp * graf * hcheam"
      ],
      "metadata": {
        "colab": {
          "base_uri": "https://localhost:8080/",
          "height": 347
        },
        "id": "oF7zcWbwJlqw",
        "outputId": "90ec7c64-3f11-4a11-9d85-fd201dfca01d"
      },
      "execution_count": null,
      "outputs": [
        {
          "output_type": "error",
          "ename": "NameError",
          "evalue": "name 'tpinp' is not defined",
          "traceback": [
            "\u001b[0;31m---------------------------------------------------------------------------\u001b[0m",
            "\u001b[0;31mNameError\u001b[0m                                 Traceback (most recent call last)",
            "\u001b[0;32m<ipython-input-11-3dfe10295d82>\u001b[0m in \u001b[0;36m<cell line: 2>\u001b[0;34m()\u001b[0m\n\u001b[1;32m      1\u001b[0m \u001b[0;31m# Function to calculate thermcoo1\u001b[0m\u001b[0;34m\u001b[0m\u001b[0;34m\u001b[0m\u001b[0m\n\u001b[0;32m----> 2\u001b[0;31m \u001b[0;32mclass\u001b[0m \u001b[0mthermcoo1\u001b[0m\u001b[0;34m(\u001b[0m\u001b[0;34m)\u001b[0m\u001b[0;34m:\u001b[0m\u001b[0;34m\u001b[0m\u001b[0;34m\u001b[0m\u001b[0m\n\u001b[0m\u001b[1;32m      3\u001b[0m     \u001b[0;31m#global tavpel, tavcld, tavgap, tavcol\u001b[0m\u001b[0;34m\u001b[0m\u001b[0;34m\u001b[0m\u001b[0m\n\u001b[1;32m      4\u001b[0m     \u001b[0;32mglobal\u001b[0m \u001b[0mxmass\u001b[0m\u001b[0;34m,\u001b[0m \u001b[0mtempr\u001b[0m\u001b[0;34m,\u001b[0m \u001b[0mpress\u001b[0m\u001b[0;34m,\u001b[0m \u001b[0mhgt\u001b[0m\u001b[0;34m,\u001b[0m \u001b[0mpresdp\u001b[0m\u001b[0;34m,\u001b[0m \u001b[0mdrhead\u001b[0m\u001b[0;34m\u001b[0m\u001b[0;34m\u001b[0m\u001b[0m\n\u001b[1;32m      5\u001b[0m     \u001b[0;32mglobal\u001b[0m \u001b[0mtpinp\u001b[0m\u001b[0;34m,\u001b[0m \u001b[0mtpout\u001b[0m\u001b[0;34m,\u001b[0m \u001b[0mxdens\u001b[0m\u001b[0;34m,\u001b[0m \u001b[0mxvel\u001b[0m\u001b[0;34m,\u001b[0m \u001b[0mxxx\u001b[0m\u001b[0;34m,\u001b[0m \u001b[0mzzz\u001b[0m\u001b[0;34m,\u001b[0m \u001b[0mdlp\u001b[0m\u001b[0;34m,\u001b[0m \u001b[0mpwrb\u001b[0m\u001b[0;34m,\u001b[0m \u001b[0mdxx\u001b[0m\u001b[0;34m,\u001b[0m \u001b[0mdzz\u001b[0m\u001b[0;34m\u001b[0m\u001b[0;34m\u001b[0m\u001b[0m\n",
            "\u001b[0;32m<ipython-input-11-3dfe10295d82>\u001b[0m in \u001b[0;36mthermcoo1\u001b[0;34m()\u001b[0m\n\u001b[1;32m     11\u001b[0m \u001b[0;34m\u001b[0m\u001b[0m\n\u001b[1;32m     12\u001b[0m     \u001b[0;31m#Menghitung temperatur di seluruh jalur pendingin\u001b[0m\u001b[0;34m\u001b[0m\u001b[0;34m\u001b[0m\u001b[0m\n\u001b[0;32m---> 13\u001b[0;31m     \u001b[0mtempr\u001b[0m\u001b[0;34m[\u001b[0m\u001b[0;36m0\u001b[0m\u001b[0;34m]\u001b[0m \u001b[0;34m=\u001b[0m \u001b[0mtpinp\u001b[0m\u001b[0;34m\u001b[0m\u001b[0;34m\u001b[0m\u001b[0m\n\u001b[0m\u001b[1;32m     14\u001b[0m     \u001b[0;32mfor\u001b[0m \u001b[0mi\u001b[0m \u001b[0;32min\u001b[0m \u001b[0mrange\u001b[0m\u001b[0;34m(\u001b[0m\u001b[0;36m1\u001b[0m\u001b[0;34m,\u001b[0m \u001b[0mmaxb\u001b[0m\u001b[0;34m-\u001b[0m\u001b[0;36m1\u001b[0m\u001b[0;34m)\u001b[0m\u001b[0;34m:\u001b[0m\u001b[0;34m\u001b[0m\u001b[0;34m\u001b[0m\u001b[0m\n\u001b[1;32m     15\u001b[0m         \u001b[0mtptmp\u001b[0m \u001b[0;34m=\u001b[0m \u001b[0mtempr\u001b[0m\u001b[0;34m[\u001b[0m\u001b[0mi\u001b[0m\u001b[0;34m]\u001b[0m\u001b[0;34m\u001b[0m\u001b[0;34m\u001b[0m\u001b[0m\n",
            "\u001b[0;31mNameError\u001b[0m: name 'tpinp' is not defined"
          ]
        }
      ]
    },
    {
      "cell_type": "markdown",
      "source": [
        "# **Subroutine prdrp2**"
      ],
      "metadata": {
        "id": "JYbRMmkIkTIe"
      }
    },
    {
      "cell_type": "code",
      "source": [
        "class prdrp2:\n",
        "   global tpinp,tpout,maxb,gtot,psist,hcheam,graf,maxc,maxm,maxp\n",
        "   #Mengitung prressure drop akibat friksi\n",
        "   power=3.0E8\n",
        "   vol=3.0\n",
        "   area=2.0\n",
        "   crat=0.35\n",
        "   tptmp=tempr[4]\n",
        "   print(\"tptmp :\", tptmp)\n",
        "   htp=entsbw(psist,tptmp)\n",
        "   print('htp:',htp)\n",
        "   cptp=cpw(htp,tptmp)\n",
        "   print('cptp:',cptp)\n",
        "   dentp=denw(htp,tptmp)\n",
        "   print('dentp:',dentp)\n",
        "   flowt=power/cptp/40.0/area/crat\n",
        "   print('flowt:',flowt)\n",
        "   drhead1=dentp*graf*dzz(4)\n",
        "   p=0.0125\n",
        "   d=0.010\n",
        "   s=0.001\n",
        "   print('tptmp,htp,cptp,dentp,flowt,drhead1')\n",
        "   print(tptmp,htp,cptp,dentp,flowt,drhead1)\n",
        "   print('j,htp,cptp,de,denw1,visw1,re,fsm,pdrop')\n",
        "   pdrop=0.0\n",
        "   flowt1=flowt*crat*area\n",
        "   dpipe=0.4\n",
        "   apipe=3.14159*dpipe**2/4.0\n",
        "\n",
        "   #Sebelum teras reaktor\n",
        "   print(\"j,de,velo,re,fsm,dpdrop,pdrop\")\n",
        "   for j in range (1, 3):\n",
        "    tptmp = tempr(j)\n",
        "    htp=entsbw(psist,tptmp)\n",
        "    cptp=cpw(htp,tptmp)\n",
        "    de=dpipe\n",
        "    denw1=denw(htp,psist)\n",
        "    visw1=visw(htp,psist)\n",
        "    velo=flowt1/denw1/apipe\n",
        "    re=denw1*velo*de/visw1\n",
        "    fsm=fricpt(re)\n",
        "    dpdrop=velo**2/(2.0*de)*fsm*denw1*(dxx(j)+dzz(j))\n",
        "    pdrop += dpdrop\n",
        "    print(j,de,velo,re,fsm,dpdrop,pdrop)\n",
        "    continue\n",
        "\n",
        "    rco=p/(3.14159)**0.5\n",
        "    areaco=3.14159*(rco**2-d**2/4.0)\n",
        "    perim=2*3.14159*(rco+d/2)\n",
        "    de=4*areaco/perim\n",
        "\n",
        "    #Bagian teras reaktor\n",
        "    print('pitch rco de:',p,rco,de)\n",
        "    for j in range (4, 7):\n",
        "      tptmp=tempr(j)\n",
        "      htp=entsbw(psist,tptmp)\n",
        "      cptp=cpw(htp,tptmp)\n",
        "      denw1=denw(htp,psist)\n",
        "      visw1=visw(htp,psist)\n",
        "      velo=flowt/denw1\n",
        "      re=denw1*velo*de/visw1\n",
        "      fsm=fricpt(re)\n",
        "      dpdrop=velo**2/(2.0*de)*fsm*denw1*dzz(j)\n",
        "      pdrop+=dpdrop\n",
        "      print(j,de,velo,re,fsm,dpdrop,pdrop)\n",
        "      continue\n",
        "\n",
        "    #Antara teras dengan steam generator\n",
        "    for j in range (8, 17):\n",
        "       tptmp=tempr(j)\n",
        "       htp=entsbw(psist,tptmp)\n",
        "       cptp=cpw(htp,tptmp)\n",
        "       de=dpipe\n",
        "       denw1=denw(htp,psist)\n",
        "       visw1=visw(htp,psist)\n",
        "       velo=flowt1/denw1/apipe\n",
        "       re=denw1*velo*de/visw1\n",
        "       fsm=fricpt(re)\n",
        "       dpdrop=velo**2/(2.0*de)*fsm*denw1*(dxx(j)+dzz(j))\n",
        "       pdrop=pdrop+dpdrop\n",
        "       print(j,de,velo,re,fsm,dpdrop,pdrop)\n",
        "       continue\n",
        "\n",
        "       rsgi=0.5\n",
        "       rsgo=1.0\n",
        "       areaco=3.14159*(rsgo**2-rsgi**2)\n",
        "       perim=2*3.14159*(rsgo+rsgi)\n",
        "       de=4*areaco/perim\n",
        "       flowt2=flowt/3\n",
        "\n",
        "       #Antara steam generator dengan pompa\n",
        "       print('pitch rco de:',p,rco,de)\n",
        "       for j in range (18, 21):\n",
        "          tptmp=tempr(j)\n",
        "          htp=entsbw(psist,tptmp)\n",
        "          cptp=cpw(htp,tptmp)\n",
        "          denw1=denw(htp,psist)\n",
        "          visw1=visw(htp,psist)\n",
        "          velo=flowt2/denw1\n",
        "          re=denw1*velo*de/visw1\n",
        "          fsm=fricpt(re)\n",
        "          dpdrop=velo**2/(2.0*de)*fsm*denw1*abs(dzz(j))\n",
        "          pdrop=pdrop+dpdrop\n",
        "          print(j,de,velo,re,fsm,dpdrop,pdrop)\n",
        "          continue"
      ],
      "metadata": {
        "id": "LyFeiiO-kYx9"
      },
      "execution_count": null,
      "outputs": []
    },
    {
      "cell_type": "markdown",
      "source": [
        "# **Subroutine initl**"
      ],
      "metadata": {
        "id": "J3VMkVxjkpKH"
      }
    },
    {
      "cell_type": "code",
      "source": [
        "class initl:\n",
        "  power=3.0E8\n",
        "  tpinp=300.0\n",
        "  tpout=340.0\n",
        "  hinlet=entsbw(psist,tpinp)\n",
        "  houtl=entsbw(psist,tpout)\n",
        "  cpwin=cpw(hinlet,tpinp)\n",
        "  cpwout=cpw(houtl,tpout)\n",
        "  gtot=power/(tpout-tpinp)/(cpwin+cpwout)*2.0\n",
        "  print(\"hinlet, houtlet :\", hinlet, houtl)\n",
        "  print('cpinlet, cpoutlet :', cpwin, cpwout)\n",
        "  maxb=28\n",
        "  psist=2.0E7\n",
        "  hsat=entw(psist)\n",
        "  tpfu1=800.0\n",
        "  print('h sat:', hsat)"
      ],
      "metadata": {
        "colab": {
          "base_uri": "https://localhost:8080/",
          "height": 110
        },
        "id": "0TwXIyGSkst2",
        "outputId": "9968950c-a7d7-40a2-c286-362114947c32"
      },
      "execution_count": null,
      "outputs": [
        {
          "output_type": "error",
          "ename": "SyntaxError",
          "evalue": "cannot assign to function call here. Maybe you meant '==' instead of '='? (<ipython-input-8-bbd31f39d941>, line 18)",
          "traceback": [
            "\u001b[0;36m  File \u001b[0;32m\"<ipython-input-8-bbd31f39d941>\"\u001b[0;36m, line \u001b[0;32m18\u001b[0m\n\u001b[0;31m    xxx(2)=2.0\u001b[0m\n\u001b[0m    ^\u001b[0m\n\u001b[0;31mSyntaxError\u001b[0m\u001b[0;31m:\u001b[0m cannot assign to function call here. Maybe you meant '==' instead of '='?\n"
          ]
        }
      ]
    }
  ]
}